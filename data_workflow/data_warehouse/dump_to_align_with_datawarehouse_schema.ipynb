{
 "cells": [
  {
   "cell_type": "code",
   "execution_count": 1,
   "metadata": {},
   "outputs": [],
   "source": [
    "import os\n",
    "FOLDER_NAME = \"LCAProgramsH1BH1B1E3\"\n",
    "# YEAR_MONTH = datetime.today().strftime(\"%Y-%m\")\n",
    "YEAR_MONTH = \"2019-10\"\n",
    "# Assuming all data is inside us-visa-data folder\n",
    "DOWNLOAD_DIR = os.getenv('DOWNLOAD_DIR', '../../us-visa-data')\n",
    "PARQUET_DIR = DOWNLOAD_DIR + \"/\" + FOLDER_NAME + \"/\" + YEAR_MONTH + \"/downloads/parquet\"\n",
    "PARQUET_MASTER_SCHEMA = PARQUET_DIR + \"/master_schema\""
   ]
  },
  {
   "cell_type": "code",
   "execution_count": 2,
   "metadata": {},
   "outputs": [
    {
     "name": "stdout",
     "output_type": "stream",
     "text": [
      "<class 'pandas.core.frame.DataFrame'>\n",
      "RangeIndex: 552336 entries, 0 to 552335\n",
      "Data columns (total 43 columns):\n",
      "YEAR_CASE_BELONGS_TO              552336 non-null int64\n",
      "CASE_NUMBER                       552336 non-null object\n",
      "CASE_STATUS                       552336 non-null category\n",
      "CASE_SUBMITTED                    552336 non-null datetime64[ns]\n",
      "DECISION_DATE                     552336 non-null datetime64[ns]\n",
      "VISA_CLASS                        552336 non-null category\n",
      "EMPLOYMENT_START_DATE             552336 non-null datetime64[ns]\n",
      "EMPLOYMENT_END_DATE               552336 non-null datetime64[ns]\n",
      "EMPLOYER_NAME                     552330 non-null object\n",
      "EMPLOYER_ADDRESS                  552333 non-null object\n",
      "EMPLOYER_CITY                     552332 non-null object\n",
      "EMPLOYER_STATE                    552304 non-null object\n",
      "EMPLOYER_POSTAL_CODE              543648 non-null float64\n",
      "EMPLOYER_COUNTRY                  529951 non-null object\n",
      "EMPLOYER_PROVINCE                 4253 non-null object\n",
      "EMPLOYER_PHONE                    529951 non-null object\n",
      "EMPLOYER_PHONE_EXT                23293 non-null object\n",
      "AGENT_REPRESENTING_EMPLOYER       529946 non-null object\n",
      "AGENT_ATTORNEY_NAME               552336 non-null object\n",
      "AGENT_ATTORNEY_CITY               372263 non-null object\n",
      "AGENT_ATTORNEY_STATE              355081 non-null object\n",
      "JOB_TITLE                         552335 non-null object\n",
      "SOC_CODE                          14 non-null float64\n",
      "SOC_NAME                          552332 non-null object\n",
      "NAICS_CODE                        552335 non-null object\n",
      "TOTAL_WORKERS                     552336 non-null float64\n",
      "FULL_TIME_POSITION                552336 non-null object\n",
      "PREVAILING_WAGE                   474433 non-null float64\n",
      "PW_UNIT_OF_PAY                    474433 non-null category\n",
      "WAGE_RATE_OF_PAY_FROM             524853 non-null float64\n",
      "WAGE_RATE_OF_PAY_TO               273036 non-null float64\n",
      "WAGE_UNIT_OF_PAY_FROM             524853 non-null category\n",
      "WAGE_UNIT_OF_PAY_TO               524853 non-null category\n",
      "H1B_DEPENDENT                     540906 non-null object\n",
      "WILLFUL_VIOLATOR                  540903 non-null object\n",
      "WORKSITE_CITY                     524773 non-null object\n",
      "WORKSITE_COUNTY                   524321 non-null object\n",
      "WORKSITE_STATE                    524842 non-null object\n",
      "WORKSITE_POSTAL_CODE              517155 non-null float64\n",
      "NORMALIZED_SALARY                 474433 non-null float64\n",
      "WORKSITE_POSTAL_TO_STATE          515842 non-null object\n",
      "WORKSITE_POSTAL_TO_COUNTY         515842 non-null object\n",
      "WORKSITE_POSTAL_TO_COUNTY_FIPS    552336 non-null object\n",
      "dtypes: category(5), datetime64[ns](4), float64(8), int64(1), object(25)\n",
      "memory usage: 162.8+ MB\n"
     ]
    }
   ],
   "source": [
    "import pandas as pd\n",
    "df = pd.read_parquet(os.path.join(PARQUET_MASTER_SCHEMA,\"2019_normalized_salary_postal_to_state_to_county_to_fips.snappy.parquet\"))\n",
    "df.info()"
   ]
  },
  {
   "cell_type": "code",
   "execution_count": 10,
   "metadata": {},
   "outputs": [],
   "source": [
    "df[['EMPLOYER_NAME','EMPLOYER_ADDRESS','EMPLOYER_CITY','EMPLOYER_COUNTRY','EMPLOYER_STATE','EMPLOYER_POSTAL_CODE',\n",
    "    'EMPLOYER_PROVINCE','EMPLOYER_PHONE','EMPLOYER_PHONE_EXT','AGENT_REPRESENTING_EMPLOYER','AGENT_ATTORNEY_NAME',\n",
    "    'AGENT_ATTORNEY_CITY','AGENT_ATTORNEY_STATE','TOTAL_WORKERS','H1B_DEPENDENT','WILLFUL_VIOLATOR']].to_csv('employer.psv',index=False, sep=\"|\")"
   ]
  },
  {
   "cell_type": "code",
   "execution_count": null,
   "metadata": {},
   "outputs": [],
   "source": [
    "df[['EMPLOYER_NAME','TOTAL_WORKERS','H1B_DEPENDENT','WILLFUL_VIOLATOR']]"
   ]
  }
 ],
 "metadata": {
  "kernelspec": {
   "display_name": "Python 3",
   "language": "python",
   "name": "python3"
  },
  "language_info": {
   "codemirror_mode": {
    "name": "ipython",
    "version": 3
   },
   "file_extension": ".py",
   "mimetype": "text/x-python",
   "name": "python",
   "nbconvert_exporter": "python",
   "pygments_lexer": "ipython3",
   "version": "3.7.5"
  }
 },
 "nbformat": 4,
 "nbformat_minor": 2
}
